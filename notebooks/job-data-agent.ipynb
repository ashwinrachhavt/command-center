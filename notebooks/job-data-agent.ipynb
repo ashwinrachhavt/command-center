{
 "cells": [
  {
   "cell_type": "code",
   "execution_count": 6,
   "metadata": {},
   "outputs": [],
   "source": [
    "from dotenv import load_dotenv\n",
    "from langchain.chat_models import init_chat_model\n",
    "import os\n",
    "from langchain.chat_models import ChatOpenAI\n",
    "from langchain.utilities import SQLDatabase\n",
    "from langchain.agents.agent_toolkits import SQLDatabaseToolkit\n",
    "from langchain.agents import initialize_agent, AgentType\n",
    "\n",
    "\n",
    "\n"
   ]
  },
  {
   "cell_type": "code",
   "execution_count": 2,
   "metadata": {},
   "outputs": [
    {
     "data": {
      "text/plain": [
       "True"
      ]
     },
     "execution_count": 2,
     "metadata": {},
     "output_type": "execute_result"
    }
   ],
   "source": [
    "load_dotenv()"
   ]
  },
  {
   "cell_type": "code",
   "execution_count": 7,
   "metadata": {},
   "outputs": [],
   "source": [
    "db = SQLDatabase.from_uri(\n",
    "    \"sqlite:////Users/ashwin/Applications/PassionProjects/Experiments/command-center/db.sqlite3\"\n",
    ")"
   ]
  },
  {
   "cell_type": "code",
   "execution_count": null,
   "metadata": {},
   "outputs": [],
   "source": [
    "from langchain.chat_models import ChatOpenAI\n",
    "from langchain.agents.agent_toolkits import SQLDatabaseToolkit\n",
    "from langchain.agents import initialize_agent, AgentType\n",
    "\n",
    "# 1. Create your LLM\n",
    "llm = ChatOpenAI(temperature=0, model=\"gpt-4\")\n",
    "\n",
    "# 2. Build the SQL toolkit from your DB + LLM\n",
    "toolkit = SQLDatabaseToolkit(db=db, llm=llm)\n",
    "tools = toolkit.get_tools()\n",
    "\n",
    "# 3. Initialize the agent\n",
    "agent = initialize_agent(\n",
    "    tools=tools,\n",
    "    llm=llm,\n",
    "    agent=AgentType.ZERO_SHOT_REACT_DESCRIPTION,\n",
    "    verbose=True,\n",
    ")\n",
    "\n",
    "\n"
   ]
  },
  {
   "cell_type": "code",
   "execution_count": 10,
   "metadata": {},
   "outputs": [
    {
     "name": "stdout",
     "output_type": "stream",
     "text": [
      "\n",
      "\n",
      "\u001b[1m> Entering new AgentExecutor chain...\u001b[0m\n",
      "\u001b[32;1m\u001b[1;3mFirst, I need to confirm if the table job_automation_agent_job exists in the database.\n",
      "Action: sql_db_list_tables\n",
      "Action Input: \"\"\u001b[0m\n",
      "Observation: \u001b[38;5;200m\u001b[1;3mauth_group, auth_group_permissions, auth_permission, auth_user, auth_user_groups, auth_user_user_permissions, django_admin_log, django_content_type, django_migrations, django_session, job_automation_agent_job\u001b[0m\n",
      "Thought:\u001b[32;1m\u001b[1;3mThe table job_automation_agent_job does exist in the database. Now, I need to write a SQL query to count the number of jobs in this table.\n",
      "Action: sql_db_query_checker\n",
      "Action Input: \"SELECT COUNT(*) FROM job_automation_agent_job\"\u001b[0m\n",
      "Observation: \u001b[36;1m\u001b[1;3mSELECT COUNT(*) FROM job_automation_agent_job\u001b[0m\n",
      "Thought:\u001b[32;1m\u001b[1;3mThe SQL query is correct. Now, I will execute this query to get the number of jobs in the table job_automation_agent_job.\n",
      "Action: sql_db_query\n",
      "Action Input: \"SELECT COUNT(*) FROM job_automation_agent_job\"\u001b[0m\n",
      "Observation: \u001b[36;1m\u001b[1;3m[(2859,)]\u001b[0m\n",
      "Thought:\u001b[32;1m\u001b[1;3mI now know the final answer\n",
      "Final Answer: There are 2859 jobs in the table job_automation_agent_job.\u001b[0m\n",
      "\n",
      "\u001b[1m> Finished chain.\u001b[0m\n",
      "There are 2859 jobs in the table job_automation_agent_job.\n"
     ]
    }
   ],
   "source": [
    "response = agent.run(\"How many jobs are there in the table job_automation_agent_job?\")\n",
    "print(response)"
   ]
  },
  {
   "cell_type": "code",
   "execution_count": null,
   "metadata": {},
   "outputs": [],
   "source": [
    "response = agent.run(\"How many jobs are there in the table job_automation_agent_job?\")\n",
    "print(response)"
   ]
  },
  {
   "cell_type": "code",
   "execution_count": 12,
   "metadata": {},
   "outputs": [
    {
     "name": "stdout",
     "output_type": "stream",
     "text": [
      "\n",
      "\n",
      "\u001b[1m> Entering new AgentExecutor chain...\u001b[0m\n",
      "\u001b[32;1m\u001b[1;3mI need to query the job_automation_agent_job table to count the number of jobs with the title \"AI Product Engineer\".\n",
      "Action: sql_db_query_checker\n",
      "Action Input: SELECT COUNT(*) FROM job_automation_agent_job WHERE job_title = 'AI Product Engineer'\u001b[0m\n",
      "Observation: \u001b[36;1m\u001b[1;3mSELECT COUNT(*) FROM job_automation_agent_job WHERE job_title = 'AI Product Engineer'\u001b[0m\n",
      "Thought:\u001b[32;1m\u001b[1;3mThe query seems to be correct as there are no error messages.\n",
      "Action: sql_db_query\n",
      "Action Input: SELECT COUNT(*) FROM job_automation_agent_job WHERE job_title = 'AI Product Engineer'\u001b[0m\n",
      "Observation: \u001b[36;1m\u001b[1;3mError: (sqlite3.OperationalError) no such column: job_title\n",
      "[SQL: SELECT COUNT(*) FROM job_automation_agent_job WHERE job_title = 'AI Product Engineer']\n",
      "(Background on this error at: https://sqlalche.me/e/20/e3q8)\u001b[0m\n",
      "Thought:\u001b[32;1m\u001b[1;3mIt seems like there is no column named 'job_title' in the table 'job_automation_agent_job'. I need to check the schema of the table to find the correct column name.\n",
      "Action: sql_db_schema\n",
      "Action Input: job_automation_agent_job\u001b[0m\n",
      "Observation: \u001b[33;1m\u001b[1;3m\n",
      "CREATE TABLE job_automation_agent_job (\n",
      "\tid INTEGER NOT NULL, \n",
      "\ttitle VARCHAR(512) NOT NULL, \n",
      "\tcompany_name VARCHAR(255) NOT NULL, \n",
      "\tcompany_url VARCHAR(200), \n",
      "\tlocation VARCHAR(255), \n",
      "\tcontract_type VARCHAR(64), \n",
      "\texperience_level VARCHAR(64), \n",
      "\twork_type VARCHAR(64), \n",
      "\tapplications_count VARCHAR(64), \n",
      "\tposted_time VARCHAR(64), \n",
      "\tpublished_at DATETIME, \n",
      "\tsalary VARCHAR(128), \n",
      "\tdescription TEXT, \n",
      "\tjob_url VARCHAR(200) NOT NULL, \n",
      "\tapply_type VARCHAR(32) NOT NULL, \n",
      "\tPRIMARY KEY (id)\n",
      ")\n",
      "\n",
      "/*\n",
      "3 rows from job_automation_agent_job table:\n",
      "id\ttitle\tcompany_name\tcompany_url\tlocation\tcontract_type\texperience_level\twork_type\tapplications_count\tposted_time\tpublished_at\tsalary\tdescription\tjob_url\tapply_type\n",
      "3321484130\tSoftware Developer (Backend SaaS)\tCanonical\thttps://uk.linkedin.com/company/canonical?trk=public_jobs_topcard-org-name\tChicago, IL\tFull-time\tAssociate\tEngineering and Information Technology\tNone\t3 days ago\t2025-06-16 00:00:00\t\tCanonical is a leading provider of open source software and operating systems to the global enterpri\thttps://www.linkedin.com/jobs/view/software-developer-backend-saas-at-canonical-3321484130?trk=publi\tEXTERNAL\n",
      "3435004588\tFull Stack Product Engineer [REMOTE]\tAnovium\thttps://www.linkedin.com/company/anovium?trk=public_jobs_topcard-org-name\tUnited States\tFull-time\tNot Applicable\tEngineering and Information Technology\tNone\t2 years ago\t2022-12-20 00:00:00\t\tAbout Anovium\n",
      "\n",
      "Anovium is a technology consultancy that transforms operations through intelligent in\thttps://www.linkedin.com/jobs/view/full-stack-product-engineer-remote-at-anovium-3435004588?trk=publ\tEXTERNAL\n",
      "3518839598\tBackend Software Engineer\tYassir\thttps://www.linkedin.com/company/yassir?trk=public_jobs_topcard-org-name\tUnited States\tFull-time\tNot Applicable\tEngineering and Information Technology\tNone\t2 years ago\t2023-02-16 00:00:00\t\tYassir is the leading super App in the Maghreb region set to changing the way daily services are pro\thttps://www.linkedin.com/jobs/view/backend-software-engineer-at-yassir-3518839598?trk=public_jobs_to\tEXTERNAL\n",
      "*/\u001b[0m\n",
      "Thought:\u001b[32;1m\u001b[1;3mThe correct column name for job title is 'title'. I need to modify the query to use the correct column name.\n",
      "Action: sql_db_query_checker\n",
      "Action Input: SELECT COUNT(*) FROM job_automation_agent_job WHERE title = 'AI Product Engineer'\u001b[0m\n",
      "Observation: \u001b[36;1m\u001b[1;3mSELECT COUNT(*) FROM job_automation_agent_job WHERE title = 'AI Product Engineer'\u001b[0m\n",
      "Thought:\u001b[32;1m\u001b[1;3mThe query seems to be correct as there are no error messages.\n",
      "Action: sql_db_query\n",
      "Action Input: SELECT COUNT(*) FROM job_automation_agent_job WHERE title = 'AI Product Engineer'\u001b[0m\n",
      "Observation: \u001b[36;1m\u001b[1;3m[(7,)]\u001b[0m\n",
      "Thought:\u001b[32;1m\u001b[1;3mI now know the final answer.\n",
      "Final Answer: There are 7 AI Product Engineer jobs in the table job_automation_agent_job.\u001b[0m\n",
      "\n",
      "\u001b[1m> Finished chain.\u001b[0m\n",
      "There are 7 AI Product Engineer jobs in the table job_automation_agent_job.\n"
     ]
    }
   ],
   "source": [
    "response = agent.run(\"How many AI Product Engineer jobs are there in the table job_automation_agent_job?\")\n",
    "print(response)"
   ]
  },
  {
   "cell_type": "code",
   "execution_count": null,
   "metadata": {},
   "outputs": [],
   "source": [
    "    "
   ]
  }
 ],
 "metadata": {
  "kernelspec": {
   "display_name": ".venv",
   "language": "python",
   "name": "python3"
  },
  "language_info": {
   "codemirror_mode": {
    "name": "ipython",
    "version": 3
   },
   "file_extension": ".py",
   "mimetype": "text/x-python",
   "name": "python",
   "nbconvert_exporter": "python",
   "pygments_lexer": "ipython3",
   "version": "3.11.7"
  }
 },
 "nbformat": 4,
 "nbformat_minor": 2
}
