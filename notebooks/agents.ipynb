{
 "cells": [
  {
   "cell_type": "markdown",
   "id": "a5390ee0",
   "metadata": {},
   "source": [
    "# Libraries"
   ]
  },
  {
   "cell_type": "code",
   "execution_count": 48,
   "id": "5e06a28d",
   "metadata": {},
   "outputs": [],
   "source": [
    "from langchain_community.document_loaders.csv_loader import CSVLoader\n",
    "from langchain.text_splitter import RecursiveCharacterTextSplitter\n",
    "from langchain.chat_models import ChatOpenAI\n",
    "from langchain.callbacks.manager import CallbackManager\n",
    "from langchain.callbacks.streaming_stdout import StreamingStdOutCallbackHandler\n",
    "from langchain.chains import ConversationalRetrievalChain\n",
    "import asyncio\n",
    "from langchain.callbacks.streaming_aiter import AsyncIteratorCallbackHandler\n",
    "from langchain.chat_models import ChatOpenAI\n",
    "from dotenv import load_dotenv\n",
    "\n",
    "from IPython.display import display, Markdown"
   ]
  },
  {
   "cell_type": "markdown",
   "id": "62fd7c41",
   "metadata": {},
   "source": [
    "# Configuration"
   ]
  },
  {
   "cell_type": "code",
   "execution_count": 8,
   "id": "a4de287c",
   "metadata": {},
   "outputs": [
    {
     "data": {
      "text/plain": [
       "True"
      ]
     },
     "execution_count": 8,
     "metadata": {},
     "output_type": "execute_result"
    }
   ],
   "source": [
    "load_dotenv()"
   ]
  },
  {
   "cell_type": "markdown",
   "id": "98882194",
   "metadata": {},
   "source": [
    "# Data stuff"
   ]
  },
  {
   "cell_type": "code",
   "execution_count": 15,
   "id": "a96806e4",
   "metadata": {},
   "outputs": [],
   "source": [
    "loader = CSVLoader('../data/jobs/aug3.csv',     metadata_columns=[\"job_title\", \"company_name\", \"location\", \"industry\", \"date_posted\"],)\n",
    "data = loader.load()"
   ]
  },
  {
   "cell_type": "code",
   "execution_count": 16,
   "id": "c762a396",
   "metadata": {},
   "outputs": [
    {
     "name": "stdout",
     "output_type": "stream",
     "text": [
      "Loaded 79 documents, example metadata: {'source': '../data/jobs/aug3.csv', 'row': 0, 'job_title': 'Software Engineer', 'company_name': 'Coinbase', 'location': 'United States (Remote)', 'industry': 'Financial Services', 'date_posted': 'Reposted 1 week ago'}\n"
     ]
    }
   ],
   "source": [
    "print(f\"Loaded {len(data)} documents, example metadata:\", data[0].metadata)"
   ]
  },
  {
   "cell_type": "code",
   "execution_count": 17,
   "id": "df32b76e",
   "metadata": {},
   "outputs": [
    {
     "name": "stdout",
     "output_type": "stream",
     "text": [
      "After chunking: 385 chunks (one per ~800 characters)\n"
     ]
    }
   ],
   "source": [
    "\n",
    "text_splitter = RecursiveCharacterTextSplitter(\n",
    "    chunk_size=800,\n",
    "    chunk_overlap=50\n",
    ")\n",
    "chunked_docs = text_splitter.split_documents(data)\n",
    "print(f\"After chunking: {len(chunked_docs)} chunks (one per ~800 characters)\")\n"
   ]
  },
  {
   "cell_type": "code",
   "execution_count": 18,
   "id": "a65e45ce",
   "metadata": {},
   "outputs": [],
   "source": [
    "from langchain.embeddings.openai import OpenAIEmbeddings\n",
    "from langchain_community.vectorstores import FAISS\n",
    "\n",
    "embeddings = OpenAIEmbeddings(\n",
    "    model=\"text-embedding-3-small\"\n",
    ")\n",
    "\n",
    "vector_store = FAISS.from_documents(\n",
    "    documents=chunked_docs,\n",
    "    embedding=embeddings\n",
    ")"
   ]
  },
  {
   "cell_type": "code",
   "execution_count": 19,
   "id": "3f0293c7",
   "metadata": {},
   "outputs": [],
   "source": [
    "vector_store.save_local(\"faiss_jobs_index\")\n",
    "\n",
    "\n",
    "vector_store = FAISS.load_local(\n",
    "    \"faiss_jobs_index\",\n",
    "    embeddings,\n",
    "    allow_dangerous_deserialization=True\n",
    ")"
   ]
  },
  {
   "cell_type": "code",
   "execution_count": 20,
   "id": "a4e91173",
   "metadata": {},
   "outputs": [],
   "source": [
    "results = vector_store.similarity_search(\n",
    "    query=\"Django\",\n",
    "    k=5\n",
    ")"
   ]
  },
  {
   "cell_type": "code",
   "execution_count": 24,
   "id": "309a2038",
   "metadata": {},
   "outputs": [
    {
     "name": "stdout",
     "output_type": "stream",
     "text": [
      "1.179 │ Otter.ai – Software Engineer, Backend (Product)\n",
      "1.225 │ Salt AI – Senior Fullstack Platform Engineer (Backend Focus)\n",
      "1.254 │ MassMutual – Python AI Developer - Investment Management Technology\n",
      "1.260 │ SMBC Group – Full Stack Developer - React / Python (Django)\n",
      "1.260 │ SMBC Group – Full Stack Developer - React / Python (Django)\n",
      "1.260 │ SMBC Group – Full Stack Developer - React / Python (Django)\n",
      "1.276 │ Salt AI – Senior Fullstack Platform Engineer (Backend Focus)\n",
      "1.296 │ Carry – Senior Software Engineer - Backend (Python)\n",
      "1.327 │ Acorns – Senior Backend Engineer, AI Team\n",
      "1.351 │ MassMutual – Python AI Developer - Investment Management Technology\n",
      "1.383 │ SMBC Group – Full Stack Developer - React / Python (Django)\n",
      "1.383 │ SMBC Group – Full Stack Developer - React / Python (Django)\n",
      "1.383 │ SMBC Group – Full Stack Developer - React / Python (Django)\n",
      "1.388 │ Pragmatike – Product Engineer (Fullstack) - Remote\n",
      "1.400 │ Forage – Senior Software Engineer\n",
      "1.403 │ Sardine – Software Engineer - AI Products\n",
      "1.410 │ Pragmatike – Product Engineer (Fullstack) - Remote\n",
      "1.420 │ Genios AI – Backend Engineer (Member of Technical Staff)\n",
      "1.436 │ MassMutual – Python AI Developer - Investment Management Technology\n",
      "1.443 │ Forage – Senior Software Engineer\n"
     ]
    }
   ],
   "source": [
    "res = vector_store.similarity_search_with_score(\"Django\", k=20)\n",
    "for doc, score in res:\n",
    "    print(f\"{score:.3f} │ {doc.metadata['company_name']} – {doc.metadata.get('job_title', '<no title>')}\")"
   ]
  },
  {
   "cell_type": "code",
   "execution_count": 29,
   "id": "12db05ac",
   "metadata": {},
   "outputs": [],
   "source": [
    "retriever = vector_store.as_retriever()"
   ]
  },
  {
   "cell_type": "markdown",
   "id": "8655836f",
   "metadata": {},
   "source": [
    "# Agent Stuff"
   ]
  },
  {
   "cell_type": "code",
   "execution_count": 46,
   "id": "6fa7f906",
   "metadata": {},
   "outputs": [],
   "source": [
    "def sync_chat(q, history):\n",
    "    handler = StreamingStdOutCallbackHandler()\n",
    "    llm = ChatOpenAI(\n",
    "        streaming=True,\n",
    "        callbacks=[handler],\n",
    "        temperature=0.0,\n",
    "        model_name=\"gpt-4.1\"\n",
    "    )\n",
    "\n",
    "    qa = ConversationalRetrievalChain.from_llm(\n",
    "        llm=llm,\n",
    "        retriever=retriever,\n",
    "        return_source_documents=False\n",
    "    )\n",
    "\n",
    "    result = qa.invoke({\"question\": q, \"chat_history\": history})\n",
    "    return result[\"answer\"], result.get(\"source_documents\", [])\n"
   ]
  },
  {
   "cell_type": "code",
   "execution_count": 60,
   "id": "bdd3e093",
   "metadata": {},
   "outputs": [
    {
     "name": "stdout",
     "output_type": "stream",
     "text": [
      "Based on the provided context, here are summarized job descriptions for Fintech Django positions, including company size and required qualifications. The company names are not specified in the context, but the summaries reflect typical requirements for such roles:\n",
      "\n",
      "---\n",
      "\n",
      "### 1. **Fintech Company (11-50 employees) – Senior Full Stack Engineer (Python/Django & React)**\n",
      "\n",
      "**Summary of Job Description:**\n",
      "- **Role:** Senior Full Stack Engineer focusing on Python (Django) and React.\n",
      "- **Responsibilities:**  \n",
      "  - Build and maintain enterprise applications with complex workflow logic, approvals, adjustments, and audit requirements.\n",
      "  - Work directly with business users and cross-functional teams to deliver solutions.\n",
      "  - Ensure applications meet financial reporting and regulatory standards.\n",
      "  - Implement CI/CD pipelines, Docker, and cloud-native development practices.\n",
      "  - Collaborate in Agile development environments.\n",
      "- **Requirements:**  \n",
      "  - 8+ years of full stack software development experience.\n",
      "  - Strong Python (Django) and React skills.\n",
      "  - Solid SQL and experience with relational databases and ORM tools.\n",
      "  - Experience with Databricks or Spark.\n",
      "  - Exposure to financial products, product control functions, and financial reporting platforms.\n",
      "  - Strong communication skills.\n",
      "  - Experience in highly regulated environments is a plus.\n",
      "\n",
      "---\n",
      "\n",
      "### 2. **Fintech Startup (11-50 employees) – Senior Python Developer**\n",
      "\n",
      "**Summary of Job Description:**\n",
      "- **Role:** Senior Python Developer with Django expertise.\n",
      "- **Responsibilities:**  \n",
      "  - Own and maintain live services, including monitoring, alerting, and deployment.\n",
      "  - Integrate with third-party APIs, especially in the Fintech domain.\n",
      "  - Build and optimize money movement or payment systems (bonus).\n",
      "  - Work with PostgreSQL and other relational databases.\n",
      "  - Collaborate with a small, agile team to deliver high-quality software.\n",
      "- **Requirements:**  \n",
      "  - 5+ years of Python development experience in production environments.\n",
      "  - Strong experience with PostgreSQL.\n",
      "  - Experience in Fintech or with third-party API integrations.\n",
      "  - Bonus: direct experience with payment systems.\n",
      "  - Technologies used: Python, Django, TypeScript, React, Next.js, Chakra UI, NestJS, PostgreSQL, Memcached, AWS (EKS, SQS, SNS, Lambda).\n",
      "\n",
      "---\n",
      "\n",
      "**Note:**  \n",
      "The company names are not provided in the context. If you need actual company names, please provide more specific information or job postings. The above summaries are based on the qualifications and requirements listed in the context for Fintech Django positions."
     ]
    }
   ],
   "source": [
    "res = sync_chat(\"Find me job descriptions required for Fintech Django Positions. Write the name of the company and summarize JD properly\", [])"
   ]
  },
  {
   "cell_type": "code",
   "execution_count": 61,
   "id": "3845c618",
   "metadata": {},
   "outputs": [
    {
     "data": {
      "text/markdown": [
       "Based on the provided context, here are summarized job descriptions for Fintech Django positions, including company size and required qualifications. The company names are not specified in the context, but the summaries reflect typical requirements for such roles:\n",
       "\n",
       "---\n",
       "\n",
       "### 1. **Fintech Company (11-50 employees) – Senior Full Stack Engineer (Python/Django & React)**\n",
       "\n",
       "**Summary of Job Description:**\n",
       "- **Role:** Senior Full Stack Engineer focusing on Python (Django) and React.\n",
       "- **Responsibilities:**  \n",
       "  - Build and maintain enterprise applications with complex workflow logic, approvals, adjustments, and audit requirements.\n",
       "  - Work directly with business users and cross-functional teams to deliver solutions.\n",
       "  - Ensure applications meet financial reporting and regulatory standards.\n",
       "  - Implement CI/CD pipelines, Docker, and cloud-native development practices.\n",
       "  - Collaborate in Agile development environments.\n",
       "- **Requirements:**  \n",
       "  - 8+ years of full stack software development experience.\n",
       "  - Strong Python (Django) and React skills.\n",
       "  - Solid SQL and experience with relational databases and ORM tools.\n",
       "  - Experience with Databricks or Spark.\n",
       "  - Exposure to financial products, product control functions, and financial reporting platforms.\n",
       "  - Strong communication skills.\n",
       "  - Experience in highly regulated environments is a plus.\n",
       "\n",
       "---\n",
       "\n",
       "### 2. **Fintech Startup (11-50 employees) – Senior Python Developer**\n",
       "\n",
       "**Summary of Job Description:**\n",
       "- **Role:** Senior Python Developer with Django expertise.\n",
       "- **Responsibilities:**  \n",
       "  - Own and maintain live services, including monitoring, alerting, and deployment.\n",
       "  - Integrate with third-party APIs, especially in the Fintech domain.\n",
       "  - Build and optimize money movement or payment systems (bonus).\n",
       "  - Work with PostgreSQL and other relational databases.\n",
       "  - Collaborate with a small, agile team to deliver high-quality software.\n",
       "- **Requirements:**  \n",
       "  - 5+ years of Python development experience in production environments.\n",
       "  - Strong experience with PostgreSQL.\n",
       "  - Experience in Fintech or with third-party API integrations.\n",
       "  - Bonus: direct experience with payment systems.\n",
       "  - Technologies used: Python, Django, TypeScript, React, Next.js, Chakra UI, NestJS, PostgreSQL, Memcached, AWS (EKS, SQS, SNS, Lambda).\n",
       "\n",
       "---\n",
       "\n",
       "**Note:**  \n",
       "The company names are not provided in the context. If you need actual company names, please provide more specific information or job postings. The above summaries are based on the qualifications and requirements listed in the context for Fintech Django positions."
      ],
      "text/plain": [
       "<IPython.core.display.Markdown object>"
      ]
     },
     "metadata": {},
     "output_type": "display_data"
    }
   ],
   "source": [
    "display(Markdown(res[0]))"
   ]
  },
  {
   "cell_type": "markdown",
   "id": "c35f4bb8",
   "metadata": {},
   "source": [
    "### Async Agent Function (Good for FastAPI Backend Streaming Responses)"
   ]
  },
  {
   "cell_type": "code",
   "execution_count": 34,
   "id": "6ac8f47e",
   "metadata": {},
   "outputs": [],
   "source": [
    "async def async_chat(q, history, retriever):\n",
    "    handler = AsyncIteratorCallbackHandler()\n",
    "    llm = ChatOpenAI(\n",
    "        streaming=True,\n",
    "        callbacks=[handler],\n",
    "        temperature=0.0,\n",
    "        model_name=\"gpt-4\"\n",
    "    )\n",
    "    qa = ConversationalRetrievalChain.from_llm(\n",
    "        llm=llm,\n",
    "        retriever=retriever,\n",
    "        return_source_documents=True,\n",
    "    )\n",
    "\n",
    "    fut = asyncio.create_task(qa.ainvoke({\"question\": q, \"chat_history\": history}))\n",
    "\n",
    "    async for token in handler.aiter():\n",
    "        yield {\"type\":\"token\", \"content\": token}\n",
    "\n",
    "    result = await fut\n",
    "    yield {\n",
    "        \"type\": \"result\",\n",
    "        \"answer\": result[\"answer\"],\n",
    "        \"sources\": getattr(result, \"source_documents\", None),\n",
    "    }\n"
   ]
  }
 ],
 "metadata": {
  "kernelspec": {
   "display_name": ".venv",
   "language": "python",
   "name": "python3"
  },
  "language_info": {
   "codemirror_mode": {
    "name": "ipython",
    "version": 3
   },
   "file_extension": ".py",
   "mimetype": "text/x-python",
   "name": "python",
   "nbconvert_exporter": "python",
   "pygments_lexer": "ipython3",
   "version": "3.11.7"
  }
 },
 "nbformat": 4,
 "nbformat_minor": 5
}
